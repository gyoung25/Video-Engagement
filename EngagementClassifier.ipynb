{
 "cells": [
  {
   "cell_type": "markdown",
   "id": "0c99d65e",
   "metadata": {},
   "source": [
    "This code is based on an assignment from the University of Michigan's Coursera course titled Applied Machine Learning in Python. I have expanded on the assignment a bit, adding different kinds of classifiers, ROC curves, performance assessments, etc.\n",
    "\n",
    "**Skills demonstrated:** classification, scikit-learn, TensorFlow, model evaluation, general coding\n",
    "\n",
    "This code trains one or more classifiers to assess how engaging videos from a dataset are based on seven features defined below. A video is classified as \"engaging\" if the median percentage of the video watched across all viewers was at least 30%.\n",
    "\n",
    "Dataset: engagement_data.csv:\n",
    "\n",
    "Features:\n",
    "\n",
    "1. title_word_count - the number of words in the title of the video.\n",
    "\n",
    "2. document_entropy - a score indicating how varied the topics are covered in the video, based on the transcript. Videos with smaller entropy scores will tend to be more cohesive and more focused on a single topic.\n",
    "\n",
    "3. freshness - The number of days elapsed between 01/01/1970 and the lecture published date. Videos that are more recent will have higher freshness values.\n",
    "\n",
    "4. easiness - A text difficulty measure applied to the transcript. A lower score indicates more complex language used by the presenter.\n",
    "\n",
    "5. fraction_stopword_presence - A stopword is a very common word like 'the' or 'and'. This feature computes the fraction of all words that are stopwords in the video lecture transcript.\n",
    "\n",
    "6. speaker_speed - The average speaking rate in words per minute of the presenter in the video.\n",
    "\n",
    "7. silent_period_rate - The fraction of time in the lecture video that is silence (no speaking).\n",
    "\n",
    "Target variable:\n",
    "\n",
    "1. engagement - Target label for training. True if learners watched a substantial portion of the video (see description), or False otherwise."
   ]
  },
  {
   "cell_type": "code",
   "execution_count": 1,
   "id": "f0cf07f5",
   "metadata": {},
   "outputs": [],
   "source": [
    "import warnings\n",
    "warnings.filterwarnings(\"ignore\")\n",
    "\n",
    "import os\n",
    "os.environ['TF_CPP_MIN_LOG_LEVEL'] = '3' \n",
    "import pandas as pd\n",
    "import numpy as np\n",
    "import matplotlib.pyplot as plt\n",
    "from sklearn.metrics import roc_auc_score, accuracy_score\n",
    "from sklearn.model_selection import GridSearchCV, train_test_split\n",
    "from sklearn.preprocessing import StandardScaler\n",
    "from engage_utils import *"
   ]
  },
  {
   "cell_type": "markdown",
   "id": "431a652f",
   "metadata": {},
   "source": [
    "Prepare data using data_prep()"
   ]
  },
  {
   "cell_type": "code",
   "execution_count": 2,
   "id": "7ce013cc",
   "metadata": {},
   "outputs": [],
   "source": [
    "X_train, X_test, y_train, y_test = data_prep(pd.read_csv('engagement_data.csv'))"
   ]
  },
  {
   "cell_type": "markdown",
   "id": "72f95119",
   "metadata": {},
   "source": [
    "Train and test an SVC classifier using engagement_model_SVM()"
   ]
  },
  {
   "cell_type": "code",
   "execution_count": 3,
   "id": "3d7c77ff",
   "metadata": {},
   "outputs": [],
   "source": [
    "rec_svc, svc = engagement_model_SVM(X_train, X_test, y_train, y_test)"
   ]
  },
  {
   "cell_type": "markdown",
   "id": "5ad3a60e",
   "metadata": {},
   "source": [
    "Train and test a logistic regression classifier using engagement_model_logReg()"
   ]
  },
  {
   "cell_type": "code",
   "execution_count": 4,
   "id": "b5142526",
   "metadata": {},
   "outputs": [],
   "source": [
    "rec_lr, lr, cols, coefs = engagement_model_logReg(X_train, X_test, y_train, y_test)"
   ]
  },
  {
   "cell_type": "markdown",
   "id": "23dd0467",
   "metadata": {},
   "source": [
    "With a linear model (or linear kernel, in the case of SVMs), we can assess the importance of each feature by looking at the magnitude of each coefficient in the model fitted from the data:"
   ]
  },
  {
   "cell_type": "code",
   "execution_count": 5,
   "id": "f1065974",
   "metadata": {},
   "outputs": [
    {
     "data": {
      "image/png": "[encoded data removed]",
      "text/plain": [
       "<Figure size 1000x600 with 1 Axes>"
      ]
     },
     "metadata": {},
     "output_type": "display_data"
    }
   ],
   "source": [
    "if (coefs is not None):\n",
    "    feature_importance = pd.DataFrame({'Feature': cols, 'Importance': np.abs(coefs)}).sort_values('Importance')\n",
    "    feature_importance.plot(x='Feature', y='Importance', kind='barh', figsize=(10, 6))"
   ]
  },
  {
   "cell_type": "markdown",
   "id": "026db723",
   "metadata": {},
   "source": [
    "From the above figure, we can see that document_entropy (a measue of the number of topics covered in the video) and easiness (simpler language) tend to influence viewer engagement more than speaker_speed and fraction_stopword_presence (fraction of common words like \"the\" and \"and\")."
   ]
  },
  {
   "cell_type": "markdown",
   "id": "2978452e",
   "metadata": {},
   "source": [
    "Train and test a shallow neural network classifier using engagement_model_NN()"
   ]
  },
  {
   "cell_type": "code",
   "execution_count": 6,
   "id": "7a0f4aac",
   "metadata": {},
   "outputs": [
    {
     "name": "stdout",
     "output_type": "stream",
     "text": [
      "Epoch 1/10\n",
      "109/109 [==============================] - 1s 5ms/step - loss: 0.3582 - auc: 0.6364 - val_loss: 0.2509 - val_auc: 0.8389\n",
      "Epoch 2/10\n",
      "109/109 [==============================] - 0s 2ms/step - loss: 0.2348 - auc: 0.8483 - val_loss: 0.2313 - val_auc: 0.8692\n",
      "Epoch 3/10\n",
      "109/109 [==============================] - 0s 2ms/step - loss: 0.2156 - auc: 0.8713 - val_loss: 0.2227 - val_auc: 0.8740\n",
      "Epoch 4/10\n",
      "109/109 [==============================] - 0s 3ms/step - loss: 0.2062 - auc: 0.8779 - val_loss: 0.2169 - val_auc: 0.8785\n",
      "Epoch 5/10\n",
      "109/109 [==============================] - 0s 2ms/step - loss: 0.2011 - auc: 0.8869 - val_loss: 0.2199 - val_auc: 0.8864\n",
      "Epoch 6/10\n",
      "109/109 [==============================] - 0s 2ms/step - loss: 0.1944 - auc: 0.8895 - val_loss: 0.2087 - val_auc: 0.8870\n",
      "Epoch 7/10\n",
      "109/109 [==============================] - 0s 3ms/step - loss: 0.1891 - auc: 0.8994 - val_loss: 0.2064 - val_auc: 0.8920\n",
      "Epoch 8/10\n",
      "109/109 [==============================] - 0s 4ms/step - loss: 0.1866 - auc: 0.9009 - val_loss: 0.2176 - val_auc: 0.8835\n",
      "Epoch 9/10\n",
      "109/109 [==============================] - 0s 3ms/step - loss: 0.1855 - auc: 0.9031 - val_loss: 0.2102 - val_auc: 0.8831\n",
      "Epoch 10/10\n",
      "109/109 [==============================] - 0s 3ms/step - loss: 0.1820 - auc: 0.9072 - val_loss: 0.2043 - val_auc: 0.8864\n",
      "0.8864032030105591\n",
      "73/73 [==============================] - 0s 2ms/step\n"
     ]
    }
   ],
   "source": [
    "rec_NN, NN = engagement_model_NN(X_train, X_test, y_train, y_test)\n",
    "#print(rec_NN)"
   ]
  },
  {
   "cell_type": "markdown",
   "id": "9a463154",
   "metadata": {},
   "source": [
    "Compute and plot ROC curves, labeling the point on the curve that minimizes the distance to the upper-left corner (fpr=0, tpr=1) of the plot"
   ]
  },
  {
   "cell_type": "code",
   "execution_count": 7,
   "id": "c24d5973",
   "metadata": {},
   "outputs": [],
   "source": [
    "fpr_svc, tpr_svc, opt_svc = roc_info(y_test,rec_svc)\n",
    "fpr_lr, tpr_lr, opt_lr = roc_info(y_test,rec_lr)\n",
    "fpr_nn, tpr_nn, opt_nn = roc_info(y_test,rec_NN)\n",
    "\n",
    "roc_plotter(fpr_svc, tpr_svc, opt_svc,'SVC')\n",
    "roc_plotter(fpr_lr, tpr_lr, opt_lr, 'Logistic regression')\n",
    "roc_plotter(fpr_nn, tpr_nn, opt_nn, 'Neural Network')"
   ]
  },
  {
   "cell_type": "markdown",
   "id": "b6c4de05",
   "metadata": {},
   "source": [
    "Compute and return the ROC_AUC and accuracy scores of each classifier"
   ]
  },
  {
   "cell_type": "code",
   "execution_count": 10,
   "id": "1c4ef81d",
   "metadata": {},
   "outputs": [
    {
     "name": "stdout",
     "output_type": "stream",
     "text": [
      "We can compare the AUC and accuracy scores of each model:\n",
      "SVC AUC score: 0.840\n",
      "SVC accuracy score at optimal probability threshold: 0.792\n",
      "LogisticRegression AUC score: 0.824\n",
      "LogisticRegression accuracy score at optimal probability threshold: 0.800\n",
      "Neural network AUC score: 0.887\n",
      "Neural network accuracy score at optimal probability threshold: 0.868\n"
     ]
    }
   ],
   "source": [
    "#print(y_pred > 0.1)\n",
    "svc_auc = roc_auc_score(y_test, rec_svc)\n",
    "svc_acc = accuracy_score(y_test, (rec_svc > opt_svc[2]))\n",
    "lr_auc = roc_auc_score(y_test, rec_lr)\n",
    "lr_acc = accuracy_score(y_test, (rec_lr >  opt_lr[2]))\n",
    "nn_auc = roc_auc_score(y_test,rec_NN)\n",
    "nn_acc = accuracy_score(y_test,(rec_NN > opt_nn[2]))\n",
    "\n",
    "print('We can compare the AUC and accuracy scores of each model:')\n",
    "\n",
    "print(f'SVC AUC score: {svc_auc:.3f}')\n",
    "print(f'SVC accuracy score at optimal probability threshold: {svc_acc:.3f}')\n",
    "\n",
    "print(f'LogisticRegression AUC score: {lr_auc:.3f}')\n",
    "print(f'LogisticRegression accuracy score at optimal probability threshold: {lr_acc:.3f}')\n",
    "\n",
    "print(f'Neural network AUC score: {nn_auc:.3f}')\n",
    "print(f'Neural network accuracy score at optimal probability threshold: {nn_acc:.3f}')\n"
   ]
  },
  {
   "cell_type": "code",
   "execution_count": null,
   "id": "d3883fd7",
   "metadata": {},
   "outputs": [],
   "source": []
  }
 ],
 "metadata": {
  "kernelspec": {
   "display_name": "Python 3 (ipykernel)",
   "language": "python",
   "name": "python3"
  },
  "language_info": {
   "codemirror_mode": {
    "name": "ipython",
    "version": 3
   },
   "file_extension": ".py",
   "mimetype": "text/x-python",
   "name": "python",
   "nbconvert_exporter": "python",
   "pygments_lexer": "ipython3",
   "version": "3.10.8"
  }
 },
 "nbformat": 4,
 "nbformat_minor": 5
}
